{
 "cells": [
  {
   "cell_type": "markdown",
   "metadata": {},
   "source": [
    "## This notebook will be used for the Coursera Applied Data Science Capstone Project"
   ]
  },
  {
   "cell_type": "code",
   "execution_count": 360,
   "metadata": {},
   "outputs": [
    {
     "name": "stdout",
     "output_type": "stream",
     "text": [
      "Looking in indexes: http://localhost:3141/bv/dev/\n",
      "Requirement already satisfied: pandas in /Users/josko374/.pyenv/versions/3.6.8/lib/python3.6/site-packages (1.1.0)\n",
      "Requirement already satisfied: python-dateutil>=2.7.3 in /Users/josko374/.pyenv/versions/3.6.8/lib/python3.6/site-packages (from pandas) (2.8.1)\n",
      "Requirement already satisfied: numpy>=1.15.4 in /Users/josko374/.pyenv/versions/3.6.8/lib/python3.6/site-packages (from pandas) (1.19.1)\n",
      "Requirement already satisfied: pytz>=2017.2 in /Users/josko374/.pyenv/versions/3.6.8/lib/python3.6/site-packages (from pandas) (2019.2)\n",
      "Requirement already satisfied: six>=1.5 in /Users/josko374/.pyenv/versions/3.6.8/lib/python3.6/site-packages (from python-dateutil>=2.7.3->pandas) (1.15.0)\n",
      "\u001b[33mWARNING: You are using pip version 20.1.1; however, version 20.2.2 is available.\n",
      "You should consider upgrading via the '/Users/josko374/.pyenv/versions/3.6.8/bin/python3.6 -m pip install --upgrade pip' command.\u001b[0m\n",
      "Looking in indexes: http://localhost:3141/bv/dev/\n",
      "Requirement already satisfied: scikit-learn in /Users/josko374/.pyenv/versions/3.6.8/lib/python3.6/site-packages (0.23.2)\n",
      "Requirement already satisfied: scipy>=0.19.1 in /Users/josko374/.pyenv/versions/3.6.8/lib/python3.6/site-packages (from scikit-learn) (1.5.2)\n",
      "Requirement already satisfied: threadpoolctl>=2.0.0 in /Users/josko374/.pyenv/versions/3.6.8/lib/python3.6/site-packages (from scikit-learn) (2.1.0)\n",
      "Requirement already satisfied: numpy>=1.13.3 in /Users/josko374/.pyenv/versions/3.6.8/lib/python3.6/site-packages (from scikit-learn) (1.19.1)\n",
      "Requirement already satisfied: joblib>=0.11 in /Users/josko374/.pyenv/versions/3.6.8/lib/python3.6/site-packages (from scikit-learn) (0.16.0)\n",
      "\u001b[33mWARNING: You are using pip version 20.1.1; however, version 20.2.2 is available.\n",
      "You should consider upgrading via the '/Users/josko374/.pyenv/versions/3.6.8/bin/python3.6 -m pip install --upgrade pip' command.\u001b[0m\n",
      "Looking in indexes: http://localhost:3141/bv/dev/\n",
      "Requirement already satisfied: seaborn in /Users/josko374/.pyenv/versions/3.6.8/lib/python3.6/site-packages (0.11.0)\n",
      "Requirement already satisfied: pandas>=0.23 in /Users/josko374/.pyenv/versions/3.6.8/lib/python3.6/site-packages (from seaborn) (1.1.0)\n",
      "Requirement already satisfied: scipy>=1.0 in /Users/josko374/.pyenv/versions/3.6.8/lib/python3.6/site-packages (from seaborn) (1.5.2)\n",
      "Requirement already satisfied: numpy>=1.15 in /Users/josko374/.pyenv/versions/3.6.8/lib/python3.6/site-packages (from seaborn) (1.19.1)\n",
      "Requirement already satisfied: matplotlib>=2.2 in /Users/josko374/.pyenv/versions/3.6.8/lib/python3.6/site-packages (from seaborn) (3.3.1)\n",
      "Requirement already satisfied: python-dateutil>=2.7.3 in /Users/josko374/.pyenv/versions/3.6.8/lib/python3.6/site-packages (from pandas>=0.23->seaborn) (2.8.1)\n",
      "Requirement already satisfied: pytz>=2017.2 in /Users/josko374/.pyenv/versions/3.6.8/lib/python3.6/site-packages (from pandas>=0.23->seaborn) (2019.2)\n",
      "Requirement already satisfied: cycler>=0.10 in /Users/josko374/.pyenv/versions/3.6.8/lib/python3.6/site-packages (from matplotlib>=2.2->seaborn) (0.10.0)\n",
      "Requirement already satisfied: pillow>=6.2.0 in /Users/josko374/.pyenv/versions/3.6.8/lib/python3.6/site-packages (from matplotlib>=2.2->seaborn) (7.1.2)\n",
      "Requirement already satisfied: pyparsing!=2.0.4,!=2.1.2,!=2.1.6,>=2.0.3 in /Users/josko374/.pyenv/versions/3.6.8/lib/python3.6/site-packages (from matplotlib>=2.2->seaborn) (2.4.7)\n",
      "Requirement already satisfied: certifi>=2020.06.20 in /Users/josko374/.pyenv/versions/3.6.8/lib/python3.6/site-packages (from matplotlib>=2.2->seaborn) (2020.6.20)\n",
      "Requirement already satisfied: kiwisolver>=1.0.1 in /Users/josko374/.pyenv/versions/3.6.8/lib/python3.6/site-packages (from matplotlib>=2.2->seaborn) (1.2.0)\n",
      "Requirement already satisfied: six>=1.5 in /Users/josko374/.pyenv/versions/3.6.8/lib/python3.6/site-packages (from python-dateutil>=2.7.3->pandas>=0.23->seaborn) (1.15.0)\n",
      "\u001b[33mWARNING: You are using pip version 20.1.1; however, version 20.2.2 is available.\n",
      "You should consider upgrading via the '/Users/josko374/.pyenv/versions/3.6.8/bin/python3.6 -m pip install --upgrade pip' command.\u001b[0m\n",
      "Looking in indexes: http://localhost:3141/bv/dev/\n",
      "Requirement already satisfied: pydotplus in /Users/josko374/.pyenv/versions/3.6.8/lib/python3.6/site-packages (2.0.2)\n",
      "Requirement already satisfied: pyparsing>=2.0.1 in /Users/josko374/.pyenv/versions/3.6.8/lib/python3.6/site-packages (from pydotplus) (2.4.7)\n",
      "\u001b[33mWARNING: You are using pip version 20.1.1; however, version 20.2.2 is available.\n",
      "You should consider upgrading via the '/Users/josko374/.pyenv/versions/3.6.8/bin/python3.6 -m pip install --upgrade pip' command.\u001b[0m\n"
     ]
    }
   ],
   "source": [
    "!pip install pandas\n",
    "!pip install scikit-learn\n",
    "!pip install seaborn\n",
    "!pip install pydotplus"
   ]
  },
  {
   "cell_type": "code",
   "execution_count": 361,
   "metadata": {},
   "outputs": [],
   "source": [
    "import pandas as pd\n",
    "import numpy as np"
   ]
  },
  {
   "cell_type": "code",
   "execution_count": 362,
   "metadata": {},
   "outputs": [
    {
     "name": "stdout",
     "output_type": "stream",
     "text": [
      "Hello Capstone Project Course!\n"
     ]
    }
   ],
   "source": [
    "print(\"Hello Capstone Project Course!\")"
   ]
  },
  {
   "cell_type": "code",
   "execution_count": 365,
   "metadata": {},
   "outputs": [
    {
     "data": {
      "text/plain": [
       "(194673, 38)"
      ]
     },
     "execution_count": 365,
     "metadata": {},
     "output_type": "execute_result"
    }
   ],
   "source": [
    "df = pd.read_csv(\"./resources/Data-Collisions.csv\")\n",
    "df.shape"
   ]
  },
  {
   "cell_type": "code",
   "execution_count": 386,
   "metadata": {},
   "outputs": [
    {
     "data": {
      "text/plain": [
       "Index(['SEVERITYCODE', 'X', 'Y', 'OBJECTID', 'INCKEY', 'COLDETKEY', 'REPORTNO',\n",
       "       'STATUS', 'ADDRTYPE', 'INTKEY', 'LOCATION', 'EXCEPTRSNCODE',\n",
       "       'EXCEPTRSNDESC', 'SEVERITYCODE.1', 'SEVERITYDESC', 'COLLISIONTYPE',\n",
       "       'PERSONCOUNT', 'PEDCOUNT', 'PEDCYLCOUNT', 'VEHCOUNT', 'INCDATE',\n",
       "       'INCDTTM', 'JUNCTIONTYPE', 'SDOT_COLCODE', 'SDOT_COLDESC',\n",
       "       'INATTENTIONIND', 'UNDERINFL', 'WEATHER', 'ROADCOND', 'LIGHTCOND',\n",
       "       'PEDROWNOTGRNT', 'SDOTCOLNUM', 'SPEEDING', 'ST_COLCODE', 'ST_COLDESC',\n",
       "       'SEGLANEKEY', 'CROSSWALKKEY', 'HITPARKEDCAR'],\n",
       "      dtype='object')"
      ]
     },
     "execution_count": 386,
     "metadata": {},
     "output_type": "execute_result"
    }
   ],
   "source": [
    "df.columns"
   ]
  },
  {
   "cell_type": "markdown",
   "metadata": {},
   "source": [
    "## Data Preprocessing"
   ]
  },
  {
   "cell_type": "code",
   "execution_count": 366,
   "metadata": {},
   "outputs": [],
   "source": [
    "# Drop all rows we don't intend to use for processing\n",
    "# Most of these columns are things which are clearly not causal to the accident and thus are left out\n",
    "FEATURES = df.drop(['X','Y','OBJECTID','INCKEY','COLDETKEY','REPORTNO','LOCATION','STATUS',\n",
    "        'INTKEY','EXCEPTRSNCODE','EXCEPTRSNDESC','SEVERITYCODE.1','SEVERITYDESC',\n",
    "        'COLLISIONTYPE','PERSONCOUNT','PEDCOUNT','PEDCYLCOUNT','VEHCOUNT','INCDATE',\n",
    "        'INCDTTM','SDOT_COLCODE','SDOT_COLDESC','SDOTCOLNUM','ST_COLCODE','ST_COLDESC',\n",
    "        'SEGLANEKEY','CROSSWALKKEY','HITPARKEDCAR','PEDROWNOTGRNT', 'ADDRTYPE'], axis=1)"
   ]
  },
  {
   "cell_type": "code",
   "execution_count": 367,
   "metadata": {},
   "outputs": [],
   "source": [
    "# Convert categorical variables\n",
    "# INATENTIONID only has two unique values, nan and Y. Inattention can be a good indicator of driving success,\n",
    "# but also a difficult one to know for sure. We'll make a call here to label nan as an indicator that inattention\n",
    "# is not likely a cause of this accident.\n",
    "FEATURES['INATTENTIONIND'] = FEATURES['INATTENTIONIND'].fillna(0)\n",
    "FEATURES['INATTENTIONIND'] = FEATURES['INATTENTIONIND'].replace(to_replace='Y', value=1)\n",
    "\n",
    "\n",
    "# UNDERINFL is a binary field and for consistency, N was converted to 0 and Y to 1.\n",
    "FEATURES['UNDERINFL'] = FEATURES['UNDERINFL'].replace(to_replace='N', value=0)\n",
    "FEATURES['UNDERINFL'] = FEATURES['UNDERINFL'].replace(to_replace='Y', value=1)\n",
    "\n",
    "FEATURES['SPEEDING'] = FEATURES['SPEEDING'].fillna(0)\n",
    "FEATURES['SPEEDING'] = FEATURES['SPEEDING'].replace(to_replace='Y', value=1)\n",
    "\n",
    "# Relabel anything with poor weatchet to be 0 and good weather to be 1\n",
    "FEATURES['WEATHER'] = FEATURES['WEATHER'].replace(dict.fromkeys(['Raining','Snowing','Fog/Smog/Smoke',\n",
    "                                                                       'Sleet/Hail/Freezing Rain', 'Blowing Sand/Dirt',\n",
    "                                                                      'Severe Crosswind'], 0))\n",
    "FEATURES['WEATHER'] = FEATURES['WEATHER'].replace(dict.fromkeys(['Overcast','Clear','Partly Cloudy'], 1))\n",
    "\n",
    "FEATURES['ROADCOND'] = FEATURES['ROADCOND'].replace(dict.fromkeys(['Wet','Snow/Slush','Ice', 'Sand/Mud/Dirt', \n",
    "                                                                   'Standing Water', 'Oil'], 0))\n",
    "FEATURES['ROADCOND'] = FEATURES['ROADCOND'].replace(dict.fromkeys(['Dry'], 1))\n",
    "\n",
    "FEATURES['JUNCTIONTYPE'] = FEATURES['JUNCTIONTYPE'].replace(dict.fromkeys(['Mid-Block (not related to intersection)',\n",
    "                                                                          'Driveway Junction',\n",
    "                                                                           'At Intersection (but not related to intersection)',\n",
    "                                                                          'Ramp Junction'], 0))\n",
    "FEATURES['JUNCTIONTYPE'] = FEATURES['JUNCTIONTYPE'].replace(dict.fromkeys(['At Intersection (intersection related)',\n",
    "                                                                          'Mid-Block (but intersection related)'], 1))\n",
    "#Rename Junction type to \"Intersection Related\"\n",
    "FEATURES.rename(columns={'JUNCTIONTYPE': 'Intersection Related'}, inplace=True)\n",
    "\n",
    "# Delete columns with road condition unknown or other\n",
    "indexNames = FEATURES[(FEATURES['ROADCOND'] == 'Unknown') | (FEATURES['ROADCOND'] == 'Other')].index\n",
    "FEATURES.drop(indexNames, inplace=True)\n",
    "\n",
    "indexNames = FEATURES[(FEATURES['Intersection Related'] == 'Unknown')].index\n",
    "FEATURES.drop(indexNames, inplace=True)\n",
    "\n",
    "indexNames = FEATURES[(FEATURES['WEATHER'] == 'Unknown') | (FEATURES['WEATHER'] == 'Other')].index\n",
    "FEATURES.drop(indexNames, inplace=True)\n",
    "\n",
    "FEATURES['LIGHTCOND'] = FEATURES['LIGHTCOND'].replace(dict.fromkeys(['Dark - No Street Lights','Dark - Street Lights Off'], 0))\n",
    "FEATURES['LIGHTCOND'] = FEATURES['LIGHTCOND'].replace(dict.fromkeys(['Dark - Street Lights On','Dusk','Dawn'], 1))\n",
    "FEATURES['LIGHTCOND'] = FEATURES['LIGHTCOND'].replace(dict.fromkeys(['Daylight',''], 2))\n",
    "\n",
    "indexNames = FEATURES[(FEATURES['LIGHTCOND'] == 'Unknown') | (FEATURES['LIGHTCOND'] == 'Other') | (FEATURES['LIGHTCOND'] == 'Dark - Unknown Lighting')].index\n",
    "FEATURES.drop(indexNames, inplace=True)\n",
    "\n",
    "# Remove all remaining rows with have empty cells\n",
    "FEATURES.dropna(inplace=True)"
   ]
  },
  {
   "cell_type": "code",
   "execution_count": 368,
   "metadata": {},
   "outputs": [
    {
     "data": {
      "text/plain": [
       "SEVERITYCODE            int64\n",
       "Intersection Related    int64\n",
       "INATTENTIONIND          int64\n",
       "UNDERINFL               int64\n",
       "WEATHER                 int64\n",
       "ROADCOND                int64\n",
       "LIGHTCOND               int64\n",
       "SPEEDING                int64\n",
       "dtype: object"
      ]
     },
     "execution_count": 368,
     "metadata": {},
     "output_type": "execute_result"
    }
   ],
   "source": [
    "# Convert all data types to integers\n",
    "FEATURES['ROADCOND'] = FEATURES['ROADCOND'].astype(\"int\")\n",
    "FEATURES['Intersection Related'] = FEATURES['Intersection Related'].astype(\"int\")\n",
    "FEATURES['UNDERINFL'] = FEATURES['UNDERINFL'].astype(\"int\")\n",
    "FEATURES['WEATHER'] = FEATURES['WEATHER'].astype(\"int\")\n",
    "FEATURES['LIGHTCOND'] = FEATURES['LIGHTCOND'].astype(\"int\")\n",
    "\n",
    "FEATURES.dtypes"
   ]
  },
  {
   "cell_type": "markdown",
   "metadata": {},
   "source": [
    "## Exploratory Analysis"
   ]
  },
  {
   "cell_type": "code",
   "execution_count": 369,
   "metadata": {},
   "outputs": [],
   "source": [
    "import seaborn as sns"
   ]
  },
  {
   "cell_type": "code",
   "execution_count": 370,
   "metadata": {},
   "outputs": [],
   "source": [
    "from sklearn.model_selection import train_test_split\n",
    "from sklearn import preprocessing\n",
    "from sklearn import metrics\n",
    "import pydotplus"
   ]
  },
  {
   "cell_type": "code",
   "execution_count": 371,
   "metadata": {},
   "outputs": [],
   "source": [
    "y = FEATURES['SEVERITYCODE'].values\n",
    "FEATURES = FEATURES.drop(['SEVERITYCODE'],axis=1)"
   ]
  },
  {
   "cell_type": "code",
   "execution_count": 372,
   "metadata": {},
   "outputs": [],
   "source": [
    "# Data Standardization give data zero mean and unit variance (technically should be done after train test split )\n",
    "X=preprocessing.StandardScaler().fit(FEATURES).transform(FEATURES)\n"
   ]
  },
  {
   "cell_type": "code",
   "execution_count": 373,
   "metadata": {},
   "outputs": [],
   "source": [
    "x_train, x_test, y_train, y_test = train_test_split(FEATURES, y, test_size=0.3, random_state=0)"
   ]
  },
  {
   "cell_type": "code",
   "execution_count": 374,
   "metadata": {},
   "outputs": [],
   "source": [
    "from sklearn.tree import DecisionTreeClassifier"
   ]
  },
  {
   "cell_type": "code",
   "execution_count": 344,
   "metadata": {
    "scrolled": true
   },
   "outputs": [
    {
     "name": "stdout",
     "output_type": "stream",
     "text": [
      "Best Decision Tree Depth: 5\n",
      "Accuracy: 0.672093949044586\n"
     ]
    }
   ],
   "source": [
    "max_depth = 100\n",
    "max_acc = 0.0\n",
    "most_accurate_depth = 0\n",
    "\n",
    "for depth in range(1, max_depth):\n",
    "    accidentTree = DecisionTreeClassifier(criterion=\"entropy\", max_depth = depth)\n",
    "    accidentTree.fit(x_train,y_train)\n",
    "    predTree = accidentTree.predict(x_test)\n",
    "    if metrics.accuracy_score(y_test, predTree) >= max_acc:\n",
    "        max_acc = metrics.accuracy_score(y_test, predTree)\n",
    "        most_accurate_depth = depth\n",
    "        decision_targets = predTree\n",
    "        \n",
    "print(f\"Best Decision Tree Depth: {most_accurate_depth}\\nAccuracy: {max_acc}\")"
   ]
  },
  {
   "cell_type": "code",
   "execution_count": 375,
   "metadata": {},
   "outputs": [
    {
     "name": "stdout",
     "output_type": "stream",
     "text": [
      "[[33611   149]\n",
      " [16343   137]]\n"
     ]
    },
    {
     "data": {
      "text/plain": [
       "<AxesSubplot:>"
      ]
     },
     "execution_count": 375,
     "metadata": {},
     "output_type": "execute_result"
    },
    {
     "data": {
      "image/png": "[encoded data removed]",
      "text/plain": [
       "<Figure size 432x288 with 2 Axes>"
      ]
     },
     "metadata": {
      "needs_background": "light"
     },
     "output_type": "display_data"
    }
   ],
   "source": [
    "from sklearn.metrics import confusion_matrix\n",
    "\n",
    "cf_matrix = confusion_matrix(y_test, predTree)\n",
    "print(cf_matrix)\n",
    "\n",
    "import seaborn as sns\n",
    "sns.heatmap(cf_matrix/np.sum(cf_matrix), annot=True)"
   ]
  },
  {
   "cell_type": "code",
   "execution_count": 377,
   "metadata": {},
   "outputs": [
    {
     "data": {
      "text/plain": [
       "VEHCOUNT         -0.054686\n",
       "SDOTCOLNUM        0.004226\n",
       "INTKEY            0.006553\n",
       "X                 0.010309\n",
       "Y                 0.017737\n",
       "OBJECTID          0.020131\n",
       "INCKEY            0.022065\n",
       "COLDETKEY         0.022079\n",
       "SEGLANEKEY        0.104276\n",
       "PERSONCOUNT       0.130949\n",
       "CROSSWALKKEY      0.175093\n",
       "SDOT_COLCODE      0.188905\n",
       "PEDCYLCOUNT       0.214218\n",
       "PEDCOUNT          0.246338\n",
       "SEVERITYCODE      1.000000\n",
       "SEVERITYCODE.1    1.000000\n",
       "Name: SEVERITYCODE, dtype: float64"
      ]
     },
     "execution_count": 377,
     "metadata": {},
     "output_type": "execute_result"
    }
   ],
   "source": [
    " c = df.corr()\n",
    "\n",
    "s = c.unstack()\n",
    "so = s.sort_values(kind=\"quicksort\")\n",
    "c['SEVERITYCODE'].sort_values()"
   ]
  },
  {
   "cell_type": "code",
   "execution_count": 378,
   "metadata": {},
   "outputs": [],
   "source": [
    "import graphviz"
   ]
  },
  {
   "cell_type": "code",
   "execution_count": 245,
   "metadata": {},
   "outputs": [
    {
     "data": {
      "text/plain": [
       "'image.pdf'"
      ]
     },
     "execution_count": 245,
     "metadata": {},
     "output_type": "execute_result"
    }
   ],
   "source": [
    "# Create DOT data\n",
    "dot_data = tree.export_graphviz(accidentTree, out_file=None, \n",
    "                                feature_names=FEATURES.columns)\n",
    "\n",
    "# Draw graph\n",
    "graph = graphviz.Source(dot_data)\n",
    "graph.render(\"image\",view=True)"
   ]
  },
  {
   "cell_type": "code",
   "execution_count": null,
   "metadata": {},
   "outputs": [],
   "source": [
    "# Support Vector Machine\n",
    "from sklearn import svm\n",
    "kernels = ['linear','poly','rbf','sigmoid']\n",
    "max_acc = 0.0\n",
    "best_kernel = ''\n",
    "for kernel in kernels:\n",
    "    clf = svm.SVC(kernel=kernel)\n",
    "    clf.fit(x_train, y_train) \n",
    "    target = clf.predict(x_test)\n",
    "    mean_acc = metrics.accuracy_score(y_test, target)\n",
    "    if mean_acc >= max_acc:\n",
    "        best_kernel = kernel\n",
    "        max_acc = mean_acc\n",
    "        svm_targets = target\n",
    "\n",
    "print(f\"Most accurate kernel: {best_kernel}\\nAccuracy: {max_acc}\")"
   ]
  },
  {
   "cell_type": "code",
   "execution_count": 253,
   "metadata": {},
   "outputs": [
    {
     "name": "stdout",
     "output_type": "stream",
     "text": [
      "Most accurate k: 2\n",
      "Accuracy: 0.6677547770700637\n"
     ]
    }
   ],
   "source": [
    "from sklearn.neighbors import KNeighborsClassifier\n",
    "# KNN\n",
    "max_k = 15\n",
    "mean_acc = np.zeros((max_k-1))\n",
    "std_acc = np.zeros((max_k-1))\n",
    "confusion_matrix = [];\n",
    "max_acc = 0.0;\n",
    "most_accurate_k = 0;\n",
    "for k in range(1,max_k): \n",
    "    neighbor = KNeighborsClassifier(n_neighbors = k).fit(x_train,y_train)\n",
    "    target = neighbor.predict(x_test)\n",
    "    mean       [ 1.03878933, -0.45079478, -0.23673079, -1.99031845, -1.5819356 ,\n",
    "         0.69326132, -0.23809205]])\n",
    "x_train, x_test, y_train, y_test = train_test_split(FEATURES, y, test_size=0.3, random_state=0)\n",
    "from sklearn.tree import DecisionTreeClassifier\n",
    "max_depth = 100\n",
    "max_acc = 0.0\n",
    "most_accurate_depth = 0\n",
    "​\n",
    "for depth in range(1, max_depth):\n",
    "    accidentTree = DecisionTreeClassifier(criterion=\"entropy\", max_depth = depth)\n",
    "    accidentTree.fit(x_train,y_train)\n",
    "    predTree = accidentTree.predict(x_test)\n",
    "    if metrics.accuracy_score(y_test, predTree) >= max_acc:\n",
    "        max_acc = metrics.accuracy_score(y_test, predTree)\n",
    "        most_accurate_depth = depth\n",
    "        decision_targets = predTree\n",
    "        \n",
    "print(f\"Best Decision Tree Depth: {most_accurate_depth}\\nAccuracy: {max_acc}\")\n",
    "Best Decision Tree Depth: 5\n",
    "Accuracy: 0.672093949044586\n",
    " c = FEATURES.corr()\n",
    "\n",
    "s = c.unstack()\n",
    "so = s.sort_values(kind=\"quicksort\")\n",
    "c['SEVERITYCODE'].sort_values()\n",
    " c = FEATURES.corr()\n",
    "​\n",
    "s = c.unstack()\n",
    "so = s.sort_values(kind=\"quicksort\")\n",
    "c['SEVERITYCODE'].sort_values()\n",
    "WEATHER                -0.007544\n",
    "ROADCOND               -0.003456\n",
    "SPEEDING                0.026075\n",
    "INATTENTIONIND          0.028435\n",
    "UNDERINFL               0.031026\n",
    "LIGHTCOND               0.033527\n",
    "Intersection Related    0.166014\n",
    "SEVERITYCODE            1.000000\n",
    "Name: SEVERITYCODE, dtype: float64\n",
    "import graphviz\n",
    "# Create DOT data\n",
    "dot_data = tree.export_graphviz(accidentTree, out_file=None, \n",
    "                                feature_names=FEATURES.columns)\n",
    "​\n",
    "# Draw graph\n",
    "graph = graphviz.Source(dot_data)\n",
    "graph.render(\"image\",view=True)\n",
    "'image.pdf'\n",
    "# Support Vector Machine\n",
    "from sklearn import svm\n",
    "kernels = ['linear','poly','rbf','sigmoid']\n",
    "max_acc = 0.0\n",
    "best_kernel = ''\n",
    "for kernel in kernels:\n",
    "    clf = svm.SVC(kernel=kernel)\n",
    "    clf.fit(x_train, y_train) \n",
    "    target = clf.predict(x_test)\n",
    "    mean_acc = metrics.accuracy_score(y_test, target)\n",
    "    if mean_acc >= max_acc:\n",
    "        best_kernel = kernel\n",
    "        max_acc = mean_acc\n",
    "        svm_targets = target\n",
    "​\n",
    "print(f\"Most accurate kernel: {best_kernel}\\nAccuracy: {max_acc}\")\n",
    "Most accurate kernel: poly\n",
    "Accuracy: 0.6720541401273885\n",
    "from sklearn.neighbors import KNeighborsClassifier\n",
    "# KNN\n",
    "max_k = 15\n",
    "mean_acc = np.zeros((max_k-1))\n",
    "std_acc = np.zeros((max_k-1))\n",
    "confusion_matrix = [];\n",
    "max_acc = 0.0;\n",
    "most_accurate_k = 0;\n",
    "for k in range(1,max_k): \n",
    "    neighbor = KNeighborsClassifier(n_neighbors = k).fit(x_train,y_train)\n",
    "    target = neighbor.predict(x_test)\n",
    "    mean_acc[k-1] = metrics.accuracy_score(y_test, target)\n",
    "    std_acc[k-1]=np.std(target==y_test)/np.sqrt(target.shape[0])\n",
    "    if mean_acc[k-1] >= max_acc:\n",
    "        most_accurate_k = k\n",
    "        max_acc = mean_acc[k-1]\n",
    "        knn_targets = target\n",
    "​\n",
    "print(f\"Most accurate k: {most_accurate_k}\\nAccuracy: {max_acc}\")\n",
    "Most accurate k: 2\n",
    "Accuracy: 0.6677547770700637_acc[k-1] = metrics.accuracy_score(y_test, target)\n",
    "    std_acc[k-1]=np.std(target==y_test)/np.sqrt(target.shape[0])\n",
    "    if mean_acc[k-1] >= max_acc:\n",
    "        most_accurate_k = k\n",
    "        max_acc = mean_acc[k-1]\n",
    "        knn_targets = target\n",
    "\n",
    "print(f\"Most accurate k: {most_accurate_k}\\nAccuracy: {max_acc}\")"
   ]
  },
  {
   "cell_type": "code",
   "execution_count": 247,
   "metadata": {},
   "outputs": [],
   "source": [
    "# Logistic Regression\n",
    "from sklearn.linear_model import LogisticRegression\n",
    "from sklearn.metrics import confusion_matrix\n",
    "LR = LogisticRegression(C=0.01, solver='liblinear').fit(x_train,y_train)\n",
    "logistic_targets = LR.predict(x_test)\n",
    "logistic_probs = LR.predict_proba(x_test)"
   ]
  },
  {
   "cell_type": "code",
   "execution_count": 251,
   "metadata": {},
   "outputs": [
    {
     "name": "stdout",
     "output_type": "stream",
     "text": [
      "Logistic Regression\n",
      "Jaccard Similarity Score: jss\n",
      "F1 Score: 0.5452140655539377\n",
      "Log Loss: 0.6167129241349958\n"
     ]
    }
   ],
   "source": [
    "from sklearn.metrics import f1_score\n",
    "from sklearn.metrics import log_loss\n",
    "\n",
    "# Logistic Regression Model Eval\n",
    "f1s = f1_score(y_test, logistic_targets, average='weighted') \n",
    "ll = log_loss(y_test, logistic_probs)\n",
    "print(f\"Logistic Regression\\nJaccard Similarity Score: jss\\nF1 Score: {f1s}\\nLog Loss: {ll}\")"
   ]
  },
  {
   "cell_type": "code",
   "execution_count": 296,
   "metadata": {},
   "outputs": [],
   "source": [
    "# Let's keep the 5 attributes with the highest correlation and see how that affects our results. \n",
    "# Suprisingly weather and road conditions had little affect. It was being under the influence or at an intersection \n",
    "# that increased the probability of a fatal accident\n",
    "#FEATURES = FEATURES.drop(['WEATHER','ROADCOND'], axis=1)\n"
   ]
  },
  {
   "cell_type": "code",
   "execution_count": 298,
   "metadata": {},
   "outputs": [],
   "source": [
    "#x_train, x_test, y_train, y_test = train_test_split(FEATURES, y, test_size=0.3, random_state=0)"
   ]
  },
  {
   "cell_type": "code",
   "execution_count": 312,
   "metadata": {},
   "outputs": [
    {
     "name": "stdout",
     "output_type": "stream",
     "text": [
      "Best Decision Tree Depth: 1\n",
      "Accuracy: 0.6719745222929936\n"
     ]
    },
    {
     "data": {
      "text/plain": [
       "'image.pdf'"
      ]
     },
     "execution_count": 312,
     "metadata": {},
     "output_type": "execute_result"
    }
   ],
   "source": [
    "max_depth = 100\n",
    "max_acc = 0.0\n",
    "most_accurate_depth = 0\n",
    "\n",
    "for depth in range(1, max_depth):\n",
    "    accidentTree = DecisionTreeClassifier(criterion=\"entropy\", max_depth = depth)\n",
    "    accidentTree.fit(x_train,y_train)\n",
    "    predTree = accidentTree.predict(x_test)\n",
    "    if metrics.accuracy_score(y_test, predTree) > max_acc:\n",
    "        max_acc = metrics.accuracy_score(y_test, predTree)\n",
    "        most_accurate_depth = depth\n",
    "        decision_targets = predTree\n",
    "        \n",
    "print(f\"Best Decision Tree Depth: {most_accurate_depth}\\nAccuracy: {max_acc}\")\n",
    "\n",
    "# Here we have an accuracy of 100% at a depth of 99\n",
    "\n",
    "# Create DOT data\n",
    "dot_data = tree.export_graphviz(accidentTree, out_file=None, \n",
    "                                feature_names=FEATURES.columns)\n",
    "\n",
    "# Draw graph\n",
    "graph = graphviz.Source(dot_data)\n",
    "graph.render(\"image\",view=True)"
   ]
  },
  {
   "cell_type": "code",
   "execution_count": 311,
   "metadata": {},
   "outputs": [
    {
     "data": {
      "text/html": [
       "<div>\n",
       "<style scoped>\n",
       "    .dataframe tbody tr th:only-of-type {\n",
       "        vertical-align: middle;\n",
       "    }\n",
       "\n",
       "    .dataframe tbody tr th {\n",
       "        vertical-align: top;\n",
       "    }\n",
       "\n",
       "    .dataframe thead th {\n",
       "        text-align: right;\n",
       "    }\n",
       "</style>\n",
       "<table border=\"1\" class=\"dataframe\">\n",
       "  <thead>\n",
       "    <tr style=\"text-align: right;\">\n",
       "      <th>LIGHTCOND</th>\n",
       "      <th>0</th>\n",
       "      <th>1</th>\n",
       "      <th>2</th>\n",
       "    </tr>\n",
       "    <tr>\n",
       "      <th>SEVERITYCODE</th>\n",
       "      <th></th>\n",
       "      <th></th>\n",
       "      <th></th>\n",
       "    </tr>\n",
       "  </thead>\n",
       "  <tbody>\n",
       "    <tr>\n",
       "      <th>1</th>\n",
       "      <td>0.016188</td>\n",
       "      <td>0.331059</td>\n",
       "      <td>0.652753</td>\n",
       "    </tr>\n",
       "    <tr>\n",
       "      <th>2</th>\n",
       "      <td>0.011256</td>\n",
       "      <td>0.304786</td>\n",
       "      <td>0.683958</td>\n",
       "    </tr>\n",
       "  </tbody>\n",
       "</table>\n",
       "</div>"
      ],
      "text/plain": [
       "LIGHTCOND            0         1         2\n",
       "SEVERITYCODE                              \n",
       "1             0.016188  0.331059  0.652753\n",
       "2             0.011256  0.304786  0.683958"
      ]
     },
     "execution_count": 311,
     "metadata": {},
     "output_type": "execute_result"
    }
   ],
   "source": [
    "pd.crosstab(index=df['SEVERITYCODE'],\n",
    "           columns=FEATURES['LIGHTCOND'],\n",
    "           normalize='index')"
   ]
  },
  {
   "cell_type": "code",
   "execution_count": 326,
   "metadata": {},
   "outputs": [
    {
     "data": {
      "text/html": [
       "<div>\n",
       "<style scoped>\n",
       "    .dataframe tbody tr th:only-of-type {\n",
       "        vertical-align: middle;\n",
       "    }\n",
       "\n",
       "    .dataframe tbody tr th {\n",
       "        vertical-align: top;\n",
       "    }\n",
       "\n",
       "    .dataframe thead tr th {\n",
       "        text-align: left;\n",
       "    }\n",
       "\n",
       "    .dataframe thead tr:last-of-type th {\n",
       "        text-align: right;\n",
       "    }\n",
       "</style>\n",
       "<table border=\"1\" class=\"dataframe\">\n",
       "  <thead>\n",
       "    <tr>\n",
       "      <th></th>\n",
       "      <th colspan=\"9\" halign=\"left\">SEVERITYCODE</th>\n",
       "    </tr>\n",
       "    <tr>\n",
       "      <th>ROADCOND</th>\n",
       "      <th>Dry</th>\n",
       "      <th>Ice</th>\n",
       "      <th>Oil</th>\n",
       "      <th>Other</th>\n",
       "      <th>Sand/Mud/Dirt</th>\n",
       "      <th>Snow/Slush</th>\n",
       "      <th>Standing Water</th>\n",
       "      <th>Unknown</th>\n",
       "      <th>Wet</th>\n",
       "    </tr>\n",
       "    <tr>\n",
       "      <th>WEATHER</th>\n",
       "      <th></th>\n",
       "      <th></th>\n",
       "      <th></th>\n",
       "      <th></th>\n",
       "      <th></th>\n",
       "      <th></th>\n",
       "      <th></th>\n",
       "      <th></th>\n",
       "      <th></th>\n",
       "    </tr>\n",
       "  </thead>\n",
       "  <tbody>\n",
       "    <tr>\n",
       "      <th>Blowing Sand/Dirt</th>\n",
       "      <td>1.281250</td>\n",
       "      <td>1.000000</td>\n",
       "      <td>NaN</td>\n",
       "      <td>2.000000</td>\n",
       "      <td>NaN</td>\n",
       "      <td>1.200000</td>\n",
       "      <td>NaN</td>\n",
       "      <td>1.000000</td>\n",
       "      <td>1.500000</td>\n",
       "    </tr>\n",
       "    <tr>\n",
       "      <th>Clear</th>\n",
       "      <td>1.323639</td>\n",
       "      <td>1.261682</td>\n",
       "      <td>1.631579</td>\n",
       "      <td>1.400000</td>\n",
       "      <td>1.424242</td>\n",
       "      <td>1.231579</td>\n",
       "      <td>1.142857</td>\n",
       "      <td>1.109804</td>\n",
       "      <td>1.328147</td>\n",
       "    </tr>\n",
       "    <tr>\n",
       "      <th>Fog/Smog/Smoke</th>\n",
       "      <td>1.337989</td>\n",
       "      <td>1.400000</td>\n",
       "      <td>NaN</td>\n",
       "      <td>1.000000</td>\n",
       "      <td>1.500000</td>\n",
       "      <td>1.000000</td>\n",
       "      <td>NaN</td>\n",
       "      <td>1.285714</td>\n",
       "      <td>1.300613</td>\n",
       "    </tr>\n",
       "    <tr>\n",
       "      <th>Other</th>\n",
       "      <td>1.292553</td>\n",
       "      <td>1.263158</td>\n",
       "      <td>1.000000</td>\n",
       "      <td>1.200000</td>\n",
       "      <td>1.000000</td>\n",
       "      <td>1.000000</td>\n",
       "      <td>NaN</td>\n",
       "      <td>1.061338</td>\n",
       "      <td>1.323077</td>\n",
       "    </tr>\n",
       "    <tr>\n",
       "      <th>Overcast</th>\n",
       "      <td>1.318151</td>\n",
       "      <td>1.213333</td>\n",
       "      <td>1.375000</td>\n",
       "      <td>1.333333</td>\n",
       "      <td>1.235294</td>\n",
       "      <td>1.135338</td>\n",
       "      <td>1.571429</td>\n",
       "      <td>1.138418</td>\n",
       "      <td>1.321860</td>\n",
       "    </tr>\n",
       "    <tr>\n",
       "      <th>Partly Cloudy</th>\n",
       "      <td>1.500000</td>\n",
       "      <td>NaN</td>\n",
       "      <td>NaN</td>\n",
       "      <td>NaN</td>\n",
       "      <td>NaN</td>\n",
       "      <td>NaN</td>\n",
       "      <td>NaN</td>\n",
       "      <td>NaN</td>\n",
       "      <td>2.000000</td>\n",
       "    </tr>\n",
       "    <tr>\n",
       "      <th>Raining</th>\n",
       "      <td>1.318253</td>\n",
       "      <td>1.428571</td>\n",
       "      <td>1.272727</td>\n",
       "      <td>1.444444</td>\n",
       "      <td>1.272727</td>\n",
       "      <td>1.250000</td>\n",
       "      <td>1.274725</td>\n",
       "      <td>1.210526</td>\n",
       "      <td>1.338135</td>\n",
       "    </tr>\n",
       "    <tr>\n",
       "      <th>Severe Crosswind</th>\n",
       "      <td>1.300000</td>\n",
       "      <td>1.333333</td>\n",
       "      <td>NaN</td>\n",
       "      <td>NaN</td>\n",
       "      <td>NaN</td>\n",
       "      <td>NaN</td>\n",
       "      <td>NaN</td>\n",
       "      <td>NaN</td>\n",
       "      <td>1.250000</td>\n",
       "    </tr>\n",
       "    <tr>\n",
       "      <th>Sleet/Hail/Freezing Rain</th>\n",
       "      <td>1.500000</td>\n",
       "      <td>1.166667</td>\n",
       "      <td>NaN</td>\n",
       "      <td>1.000000</td>\n",
       "      <td>NaN</td>\n",
       "      <td>1.259259</td>\n",
       "      <td>1.000000</td>\n",
       "      <td>NaN</td>\n",
       "      <td>1.267857</td>\n",
       "    </tr>\n",
       "    <tr>\n",
       "      <th>Snowing</th>\n",
       "      <td>1.333333</td>\n",
       "      <td>1.142012</td>\n",
       "      <td>NaN</td>\n",
       "      <td>2.000000</td>\n",
       "      <td>1.000000</td>\n",
       "      <td>1.164234</td>\n",
       "      <td>NaN</td>\n",
       "      <td>1.125000</td>\n",
       "      <td>1.303226</td>\n",
       "    </tr>\n",
       "    <tr>\n",
       "      <th>Unknown</th>\n",
       "      <td>1.150831</td>\n",
       "      <td>1.054054</td>\n",
       "      <td>1.000000</td>\n",
       "      <td>1.000000</td>\n",
       "      <td>1.125000</td>\n",
       "      <td>1.054348</td>\n",
       "      <td>1.000000</td>\n",
       "      <td>1.044082</td>\n",
       "      <td>1.181818</td>\n",
       "    </tr>\n",
       "  </tbody>\n",
       "</table>\n",
       "</div>"
      ],
      "text/plain": [
       "                         SEVERITYCODE                                \\\n",
       "ROADCOND                          Dry       Ice       Oil     Other   \n",
       "WEATHER                                                               \n",
       "Blowing Sand/Dirt            1.281250  1.000000       NaN  2.000000   \n",
       "Clear                        1.323639  1.261682  1.631579  1.400000   \n",
       "Fog/Smog/Smoke               1.337989  1.400000       NaN  1.000000   \n",
       "Other                        1.292553  1.263158  1.000000  1.200000   \n",
       "Overcast                     1.318151  1.213333  1.375000  1.333333   \n",
       "Partly Cloudy                1.500000       NaN       NaN       NaN   \n",
       "Raining                      1.318253  1.428571  1.272727  1.444444   \n",
       "Severe Crosswind             1.300000  1.333333       NaN       NaN   \n",
       "Sleet/Hail/Freezing Rain     1.500000  1.166667       NaN  1.000000   \n",
       "Snowing                      1.333333  1.142012       NaN  2.000000   \n",
       "Unknown                      1.150831  1.054054  1.000000  1.000000   \n",
       "\n",
       "                                                                            \\\n",
       "ROADCOND                 Sand/Mud/Dirt Snow/Slush Standing Water   Unknown   \n",
       "WEATHER                                                                      \n",
       "Blowing Sand/Dirt                  NaN   1.200000            NaN  1.000000   \n",
       "Clear                         1.424242   1.231579       1.142857  1.109804   \n",
       "Fog/Smog/Smoke                1.500000   1.000000            NaN  1.285714   \n",
       "Other                         1.000000   1.000000            NaN  1.061338   \n",
       "Overcast                      1.235294   1.135338       1.571429  1.138418   \n",
       "Partly Cloudy                      NaN        NaN            NaN       NaN   \n",
       "Raining                       1.272727   1.250000       1.274725  1.210526   \n",
       "Severe Crosswind                   NaN        NaN            NaN       NaN   \n",
       "Sleet/Hail/Freezing Rain           NaN   1.259259       1.000000       NaN   \n",
       "Snowing                       1.000000   1.164234            NaN  1.125000   \n",
       "Unknown                       1.125000   1.054348       1.000000  1.044082   \n",
       "\n",
       "                                    \n",
       "ROADCOND                       Wet  \n",
       "WEATHER                             \n",
       "Blowing Sand/Dirt         1.500000  \n",
       "Clear                     1.328147  \n",
       "Fog/Smog/Smoke            1.300613  \n",
       "Other                     1.323077  \n",
       "Overcast                  1.321860  \n",
       "Partly Cloudy             2.000000  \n",
       "Raining                   1.338135  \n",
       "Severe Crosswind          1.250000  \n",
       "Sleet/Hail/Freezing Rain  1.267857  \n",
       "Snowing                   1.303226  \n",
       "Unknown                   1.181818  "
      ]
     },
     "execution_count": 326,
     "metadata": {},
     "output_type": "execute_result"
    }
   ],
   "source": [
    "df[['SEVERITYCODE','WEATHER','ROADCOND']].groupby(['WEATHER','ROADCOND'], as_index=False).mean().pivot(index='WEATHER',columns='ROADCOND')"
   ]
  },
  {
   "cell_type": "code",
   "execution_count": 355,
   "metadata": {},
   "outputs": [],
   "source": [
    "from sklearn.metrics import jaccard_score\n",
    "from sklearn.metrics import f1_score"
   ]
  },
  {
   "cell_type": "code",
   "execution_count": 381,
   "metadata": {},
   "outputs": [
    {
     "name": "stdout",
     "output_type": "stream",
     "text": [
      "Logistic Regression\n",
      "Jaccard Similarity Score: 0.6711448248328177\n",
      "F1 Score: 0.5454149460349641\n"
     ]
    }
   ],
   "source": [
    "# Decision Tree Model Eval\n",
    "jss = jaccard_score(y_test, decision_targets)\n",
    "f1s = f1_score(y_test, decision_targets, average='weighted') \n",
    "print(f\"Logistic Regression\\nJaccard Similarity Score: {jss}\\nF1 Score: {f1s}\")"
   ]
  },
  {
   "cell_type": "code",
   "execution_count": 357,
   "metadata": {},
   "outputs": [
    {
     "name": "stdout",
     "output_type": "stream",
     "text": [
      "Logistic Regression\n",
      "Jaccard Similarity Score: 0.6652360515021459\n",
      "F1 Score: 0.5510997939481097\n"
     ]
    }
   ],
   "source": [
    "# KNN Model Eval\n",
    "jss = jaccard_score(y_test, knn_targets)\n",
    "f1s = f1_score(y_test, knn_targets, average='weighted') \n",
    "print(f\"Logistic Regression\\nJaccard Similarity Score: {jss}\\nF1 Score: {f1s}\")"
   ]
  },
  {
   "cell_type": "code",
   "execution_count": 358,
   "metadata": {},
   "outputs": [
    {
     "name": "stdout",
     "output_type": "stream",
     "text": [
      "Logistic Regression\n",
      "Jaccard Similarity Score: 0.6710513183895886\n",
      "F1 Score: 0.5452140655539377\n",
      "Log Loss: 0.6167129241349958\n"
     ]
    }
   ],
   "source": [
    "# Logistic Regression Model Eval\n",
    "jss = jaccard_score(y_test, logistic_targets)\n",
    "f1s = f1_score(y_test, logistic_targets, average='weighted') \n",
    "ll = log_loss(y_test, logistic_probs)\n",
    "print(f\"Logistic Regression\\nJaccard Similarity Score: {jss}\\nF1 Score: {f1s}\\nLog Loss: {ll}\")"
   ]
  },
  {
   "cell_type": "code",
   "execution_count": 359,
   "metadata": {},
   "outputs": [
    {
     "name": "stdout",
     "output_type": "stream",
     "text": [
      "Logistic Regression\n",
      "Jaccard Similarity Score: 0.6716816451786461\n",
      "F1 Score: 0.5422527570310235\n"
     ]
    }
   ],
   "source": [
    "# SVM Model Eval\n",
    "jss = jaccard_score(y_test, svm_targets)\n",
    "f1s = f1_score(y_test, svm_targets, average='weighted') \n",
    "print(f\"Logistic Regression\\nJaccard Similarity Score: {jss}\\nF1 Score: {f1s}\")"
   ]
  },
  {
   "cell_type": "code",
   "execution_count": null,
   "metadata": {},
   "outputs": [],
   "source": []
  }
 ],
 "metadata": {
  "kernelspec": {
   "display_name": "Python 3",
   "language": "python",
   "name": "python3"
  },
  "language_info": {
   "codemirror_mode": {
    "name": "ipython",
    "version": 3
   },
   "file_extension": ".py",
   "mimetype": "text/x-python",
   "name": "python",
   "nbconvert_exporter": "python",
   "pygments_lexer": "ipython3",
   "version": "3.6.8"
  }
 },
 "nbformat": 4,
 "nbformat_minor": 4
}
